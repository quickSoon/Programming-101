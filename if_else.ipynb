{
 "cells": [
  {
   "cell_type": "code",
   "execution_count": 6,
   "metadata": {},
   "outputs": [
    {
     "name": "stdout",
     "output_type": "stream",
     "text": [
      "2 5\n",
      "200\n"
     ]
    }
   ],
   "source": [
    "one, two = input().split()\n",
    "money = 0\n",
    "\n",
    "if (int(one) % 2) == 1:\n",
    "    money += 100\n",
    "if int(two) == 2 or int(two) == 5 or int(two) == 8:\n",
    "    money += 200\n",
    "if int(one) == int(two):\n",
    "    money += 50\n",
    "    \n",
    "print(money)"
   ]
  },
  {
   "cell_type": "code",
   "execution_count": 8,
   "metadata": {
    "scrolled": true
   },
   "outputs": [
    {
     "name": "stdout",
     "output_type": "stream",
     "text": [
      "7:10 8:50\n",
      "60\n"
     ]
    }
   ],
   "source": [
    "a, b = input().split()\n",
    "Start = int(a.split(\":\")[0])*60 + int(a.split(\":\")[1])\n",
    "End = int(b.split(\":\")[0])*60 + int(b.split(\":\")[1])\n",
    "def expense(Start, End):\n",
    "    if (End - Start) <= 30:\n",
    "        return 0\n",
    "    elif (End - Start) <= 60:\n",
    "        return 30\n",
    "    elif (End - Start) <= 120:\n",
    "        return 60\n",
    "    else:\n",
    "        return 120\n",
    "print(expense(Start, End))"
   ]
  },
  {
   "cell_type": "code",
   "execution_count": 13,
   "metadata": {},
   "outputs": [
    {
     "name": "stdout",
     "output_type": "stream",
     "text": [
      "Plz enter a number:-46.3\n",
      "46.3\n"
     ]
    }
   ],
   "source": [
    "#str.lstrip([word]) means taking away the space at left the str or the designated str\n",
    "\n",
    "a = input(\"Plz enter a number:\")\n",
    "if a.isdigit() or \"-\" in a or \".\" in a:\n",
    "    a = float(a)\n",
    "    print (abs(a))\n",
    "elif a.isalpha():\n",
    "    print (\"It's not a number\")\n",
    "else:\n",
    "    print (\"Nope\")"
   ]
  },
  {
   "cell_type": "code",
   "execution_count": 2,
   "metadata": {},
   "outputs": [
    {
     "name": "stdout",
     "output_type": "stream",
     "text": [
      "pretty 2\n",
      "good 3\n",
      "That's 1\n",
      "That's pretty good.\n"
     ]
    }
   ],
   "source": [
    "row1 = input()\n",
    "row2 = input()\n",
    "row3 = input()\n",
    "\n",
    "if row1.split()[-1] == \"1\":\n",
    "#   row1, ?, ?\n",
    "    if row2.split()[-1] == \"2\":\n",
    "        #   row1, row2, row3\n",
    "        print (\"{0} {1} {2}\".format(row1.split()[0], row2.split()[0], row3.split()[0]) + \".\")\n",
    "    else:\n",
    "        #   row1, row3, row2\n",
    "        print (\"{0} {2} {1}\".format(row1.split()[0], row2.split()[0], row3.split()[0]) + \".\")\n",
    "elif row1.split()[-1] == \"2\":\n",
    "#   ?, row1, ?\n",
    "    if row2.split()[-1] == \"1\":\n",
    "        #   row2, row1, row3\n",
    "        print (\"{1} {0} {2}\".format(row1.split()[0], row2.split()[0], row3.split()[0]) + \".\")\n",
    "    else:\n",
    "        #   row3, row1, row2\n",
    "        print (\"{2} {0} {1}\".format(row1.split()[0], row2.split()[0], row3.split()[0]) + \".\")\n",
    "else:\n",
    "#   ?, ?, row1\n",
    "    if row2.split()[-1] == \"1\":\n",
    "        #   row2, row3, row1\n",
    "        print (\"{1} {2} {0}\".format(row1.split()[0], row2.split()[0], row3.split()[0]) + \".\")\n",
    "    else:\n",
    "        #   row3, row2, row1\n",
    "        print (\"{2} {1} {0}\".format(row1.split()[0], row2.split()[0], row3.split()[0]) + \".\")"
   ]
  },
  {
   "cell_type": "code",
   "execution_count": 8,
   "metadata": {},
   "outputs": [
    {
     "name": "stdout",
     "output_type": "stream",
     "text": [
      "[26, 50, 60, 75, 80, 85, 86, 90, 460, 500]\n"
     ]
    }
   ],
   "source": [
    "tableRight = [50, 85, 26, 500, 90, 80, 60, 75, 460, 86]\n",
    "countBeg = len(tableRight)\n",
    "tableLeft = []\n",
    "\n",
    "#從剩下考卷挑最低分，放到左邊桌子\n",
    "for i in range(countBeg):\n",
    "    lowIndex = 0\n",
    "    count = len(tableRight)\n",
    "    for j in range(count):  #挑出最低分\n",
    "        if tableRight[j] < tableRight[lowIndex]:\n",
    "            lowIndex = j\n",
    "    lowest = tableRight[lowIndex]  #挑完最低分\n",
    "    tableLeft.append(lowest)  #將最低分append在左邊桌子的最右邊\n",
    "    del tableRight[lowIndex]\n",
    "print(tableLeft)"
   ]
  },
  {
   "cell_type": "code",
   "execution_count": null,
   "metadata": {},
   "outputs": [],
   "source": []
  }
 ],
 "metadata": {
  "kernelspec": {
   "display_name": "Python 3",
   "language": "python",
   "name": "python3"
  },
  "language_info": {
   "codemirror_mode": {
    "name": "ipython",
    "version": 3
   },
   "file_extension": ".py",
   "mimetype": "text/x-python",
   "name": "python",
   "nbconvert_exporter": "python",
   "pygments_lexer": "ipython3",
   "version": "3.7.0"
  }
 },
 "nbformat": 4,
 "nbformat_minor": 2
}

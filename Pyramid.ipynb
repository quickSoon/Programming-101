{
 "cells": [
  {
   "cell_type": "code",
   "execution_count": 36,
   "metadata": {},
   "outputs": [
    {
     "name": "stdout",
     "output_type": "stream",
     "text": [
      "4\n",
      "   *\n",
      "  * *\n",
      " * * *\n",
      "* * * *\n"
     ]
    }
   ],
   "source": [
    "n = int(input())\n",
    "for i in range(n):  # 0~4\n",
    "    print(' '*(n-i-1) + '* '*i + '*' )"
   ]
  },
  {
   "cell_type": "code",
   "execution_count": 34,
   "metadata": {},
   "outputs": [
    {
     "name": "stdout",
     "output_type": "stream",
     "text": [
      "4\n",
      "    *\n",
      "   * *\n",
      "  * * *\n",
      " * * * *\n"
     ]
    }
   ],
   "source": [
    "n = int(input())\n",
    "for i in range(n):\n",
    "    for j in range(n-i-1):\n",
    "        print(\" \", end=\"\")\n",
    "    for k in range(i+1):\n",
    "        print(\" *\", end=\"\")\n",
    "    print()"
   ]
  },
  {
   "cell_type": "code",
   "execution_count": 11,
   "metadata": {},
   "outputs": [
    {
     "name": "stdout",
     "output_type": "stream",
     "text": [
      "  *\n",
      " ***\n",
      "*****\n"
     ]
    }
   ],
   "source": [
    "x = 0\n",
    "y = \"*\"\n",
    "while x < 3:  #循环次数\n",
    "    print(\" \"*(3-x-1)+(2*x+1)*y)\n",
    "    x+=1"
   ]
  },
  {
   "cell_type": "code",
   "execution_count": 27,
   "metadata": {},
   "outputs": [
    {
     "name": "stdout",
     "output_type": "stream",
     "text": [
      "*\n",
      "***\n",
      "*****\n",
      "*******\n",
      "*****\n",
      "***\n",
      "*\n"
     ]
    }
   ],
   "source": [
    "for j in range(4):\n",
    "    print(\"*\" * (2*j+1))\n",
    "for jj in range(3,0,-1):\n",
    "    print(\"*\" * (2*jj-1))"
   ]
  },
  {
   "cell_type": "code",
   "execution_count": 4,
   "metadata": {},
   "outputs": [
    {
     "name": "stdout",
     "output_type": "stream",
     "text": [
      "2 5\n",
      "*****\n",
      " ***\n",
      "  *\n",
      " ***\n",
      "*****\n"
     ]
    }
   ],
   "source": [
    "a, b = input().split()\n",
    "a, b = int(a), int(b)\n",
    "bb = int((b+1)/2)\n",
    "\n",
    "if a == 1:  #菱形\n",
    "    for i in range(bb):\n",
    "        print(\" \"*(bb-1-i) + \"*\"*(2*i+1))\n",
    "    for j in range((bb-1)):\n",
    "        print(\" \"*(j+1) + \"*\"*(2*(bb-1-j)-1))\n",
    "\n",
    "if a == 2:  #沙漏\n",
    "    for x in range((bb)):\n",
    "        print(\" \"*(x) + \"*\"*(2*(bb-1-x)+1))\n",
    "    for y in range((bb-1)):\n",
    "        print(\" \"*(bb-2-y) + \"*\"*(2*(y+1)+1))"
   ]
  },
  {
   "cell_type": "code",
   "execution_count": null,
   "metadata": {},
   "outputs": [],
   "source": []
  }
 ],
 "metadata": {
  "kernelspec": {
   "display_name": "Python 3",
   "language": "python",
   "name": "python3"
  },
  "language_info": {
   "codemirror_mode": {
    "name": "ipython",
    "version": 3
   },
   "file_extension": ".py",
   "mimetype": "text/x-python",
   "name": "python",
   "nbconvert_exporter": "python",
   "pygments_lexer": "ipython3",
   "version": "3.7.0"
  }
 },
 "nbformat": 4,
 "nbformat_minor": 2
}

{
 "cells": [
  {
   "cell_type": "code",
   "execution_count": 21,
   "metadata": {},
   "outputs": [
    {
     "name": "stdout",
     "output_type": "stream",
     "text": [
      "Speaking words of wisdom Let it be \n"
     ]
    }
   ],
   "source": [
    "A = \"Speaking words of wisdom: Let it be \"\n",
    "for char in '?.!/;:':\n",
    "    A = A.replace(char,'')\n",
    "print (A)"
   ]
  },
  {
   "cell_type": "code",
   "execution_count": 10,
   "metadata": {},
   "outputs": [
    {
     "name": "stdout",
     "output_type": "stream",
     "text": [
      "We're the champion?\n",
      "I'd like to do it.\n",
      "qurkmlds \\n\n",
      "===\n",
      "['the', 'champion', 'we', 'are', 'like', 'to', 'do', 'it', 'i', 'would', 'qurkmlds']\n",
      "[('are', 1), ('champion', 1), ('do', 1), ('i', 1), ('it', 1), ('like', 1), ('qurkmlds', 1), ('the', 1), ('to', 1), ('we', 1), ('would', 1)]\n",
      "are:1\n",
      "champion:1\n",
      "do:1\n",
      "i:1\n",
      "it:1\n",
      "like:1\n",
      "qurkmlds:1\n",
      "the:1\n",
      "to:1\n",
      "we:1\n",
      "would:1\n"
     ]
    }
   ],
   "source": [
    "lyric = []\n",
    "while True:\n",
    "    line = input().lower()\n",
    "    if line == \"===\":\n",
    "        break\n",
    "    else:\n",
    "        for char in '?.,:':\n",
    "            line = line.replace(char,'')\n",
    "        lyric.append(line)\n",
    "\n",
    "wordList = []\n",
    "for i in lyric:\n",
    "    j = i.split()\n",
    "    for k in j:\n",
    "        wordList.append(k)\n",
    "    if \"\\\\n\" in wordList:\n",
    "        wordList.remove(\"\\\\n\")\n",
    "    if \"we\\'re\" in wordList:\n",
    "        wordList.remove(\"we\\'re\")\n",
    "        wordList.append(\"we\")\n",
    "        wordList.append(\"are\")\n",
    "    if \"i\\'d\" in wordList:\n",
    "        wordList.remove(\"i\\'d\")\n",
    "        wordList.append(\"i\")\n",
    "        wordList.append(\"would\")\n",
    "print(wordList)\n",
    "\n",
    "output = {}\n",
    "for word in wordList:\n",
    "    output[word] = wordList.count(word)\n",
    "Sorted = sorted(output.items(), key=lambda d:d[0])  #按key排序，lambda x:x[0]表示取要排序的第一个元素排序\n",
    "print(Sorted)\n",
    "\n",
    "for each in Sorted:\n",
    "    print( each[0] + \":\" + str(each[1]) )"
   ]
  },
  {
   "cell_type": "code",
   "execution_count": 34,
   "metadata": {},
   "outputs": [
    {
     "name": "stdout",
     "output_type": "stream",
     "text": [
      "{'and': 1, 'when': 2, 'the': 2, 'broken': 1, 'hearted': 1, 'people': 1, 'living': 1, 'in': 2, 'world': 1, 'agree': 1, 'i': 1, 'find': 1, 'myself': 1, 'time': 1, 'of': 1, 'trouble': 1}\n",
      "[('when', 2), ('the', 2), ('in', 2), ('and', 1), ('broken', 1), ('hearted', 1), ('people', 1), ('living', 1), ('world', 1), ('agree', 1), ('i', 1), ('find', 1), ('myself', 1), ('time', 1), ('of', 1), ('trouble', 1)]\n"
     ]
    }
   ],
   "source": [
    "novelDict = {}\n",
    "words = ['and', 'when', 'the', 'broken', 'hearted', 'people', 'living', 'in', 'the', 'world', 'agree', 'when', 'i', 'find', 'myself', 'in', 'time', 'of', 'trouble']\n",
    "for word in words:\n",
    "    novelDict[word] = words.count(word)\n",
    "print(novelDict)\n",
    "# 對詞頻進行排序\n",
    "Sorted = list(novelDict.items())\n",
    "Sorted.sort(key=lambda e: e[1], reverse=True)\n",
    "print(Sorted)"
   ]
  }
 ],
 "metadata": {
  "kernelspec": {
   "display_name": "Python 3",
   "language": "python",
   "name": "python3"
  },
  "language_info": {
   "codemirror_mode": {
    "name": "ipython",
    "version": 3
   },
   "file_extension": ".py",
   "mimetype": "text/x-python",
   "name": "python",
   "nbconvert_exporter": "python",
   "pygments_lexer": "ipython3",
   "version": "3.7.0"
  }
 },
 "nbformat": 4,
 "nbformat_minor": 2
}

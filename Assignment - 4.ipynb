{
 "cells": [
  {
   "cell_type": "code",
   "execution_count": 189,
   "metadata": {},
   "outputs": [
    {
     "name": "stdout",
     "output_type": "stream",
     "text": [
      "PTS\n",
      "Stephen Curry, 29.5, 6.1, 5.0, 0.3, 1\n",
      "Kyle Lowry, 15.4, 10.5, 4.6, 0.3, 1.4\n",
      "Andre Drummond, 19.3, 1.6, 15.9, 1.6, 0.9\n",
      "James Harden, 29.0, 7.5, 5.4, 0.6, 2.5\n",
      "LeBron James, 28.9, 6.9, 8.1, 0.9, 1.4\n",
      "-1\n",
      "The leaderboard of PTS\n",
      "Stephen Curry\n",
      "James Harden\n",
      "LeBron James\n",
      "Andre Drummond\n",
      "Kyle Lowry\n"
     ]
    }
   ],
   "source": [
    "n = input()\n",
    "nameDict = {}  #{A:[1,2,3,4,5], B:[1,2,3,4,5],..}\n",
    "nameList = []  #[(A,n),(B,n),(C,n),..]\n",
    "\n",
    "while True:\n",
    "    line = input()\n",
    "    if line == '-1':\n",
    "        break\n",
    "    else:\n",
    "        line = line.split(\", \")\n",
    "        nameDict[line[0]] = list(map(float, line[1:]))  #{A:[1,2,3,4,5], B:[1,2,3,4,5],..}\n",
    "\n",
    "for i in range(len(nameDict)):\n",
    "    if n == \"PTS\":\n",
    "        X = (list(nameDict.keys())[i], list(nameDict.values())[i][0])  #(A,PTS)\n",
    "        nameList.append(X)\n",
    "    if n == \"AST\":\n",
    "        X = (list(nameDict.keys())[i], list(nameDict.values())[i][1])  #(A,AST)\n",
    "        nameList.append(X)\n",
    "    if n == \"TRB\":\n",
    "        X = (list(nameDict.keys())[i], list(nameDict.values())[i][2])  #(A,TRB)\n",
    "        nameList.append(X)\n",
    "    if n == \"BLK\":\n",
    "        X = (list(nameDict.keys())[i], list(nameDict.values())[i][3])  #(A,BLK)\n",
    "        nameList.append(X)\n",
    "    if n == \"STL\":\n",
    "        X = (list(nameDict.keys())[i], list(nameDict.values())[i][4])  #(A,STL)\n",
    "        nameList.append(X)\n",
    "\n",
    "nameList = sorted(nameList, key=lambda x:(-x[1], x[0]))  #sort number then alphabet\n",
    "print(\"The leaderboard of\", n)\n",
    "for j in range(len(nameDict)):\n",
    "    print(nameList[j][0])"
   ]
  },
  {
   "cell_type": "code",
   "execution_count": 193,
   "metadata": {},
   "outputs": [
    {
     "name": "stdout",
     "output_type": "stream",
     "text": [
      "[('S', 25), ('A', 20), ('M', 20), ('A', 15), ('E', 15), ('K', 15)]\n"
     ]
    }
   ],
   "source": [
    "A = [('S', 25), ('A', 15), ('K', 15), ('M', 20), ('A', 20), ('E', 15)]\n",
    "A = sorted(A, key=lambda x:(-x[1], x[0]))  #數字先降冪同分再照字母順排\n",
    "print(A)"
   ]
  },
  {
   "cell_type": "code",
   "execution_count": null,
   "metadata": {},
   "outputs": [],
   "source": [
    "import requests\n",
    "response = requests.get(\"https://tw.appledaily.com/new/realtime\")\n",
    "\n",
    "response.url\n",
    "response.text"
   ]
  },
  {
   "cell_type": "code",
   "execution_count": null,
   "metadata": {},
   "outputs": [],
   "source": [
    "from pyquery import PyQuery as pq\n",
    "doc = pq('<html></html>')"
   ]
  },
  {
   "cell_type": "code",
   "execution_count": 292,
   "metadata": {},
   "outputs": [
    {
     "name": "stdout",
     "output_type": "stream",
     "text": [
      "1\n",
      "105305001@nccu.edu.tw\n",
      "Valid\n"
     ]
    }
   ],
   "source": [
    "n = int(input())\n",
    "checkList = []\n",
    "\n",
    "def isCh(s):\n",
    "    for ch in s:\n",
    "        if '\\u4e00' <= ch <= '\\u9fff':\n",
    "            return False\n",
    "    return True\n",
    "\n",
    "def email_checker():\n",
    "    if ((name.islower() is True) and (name.isalnum() is True)) or (name.isdigit() is True):\n",
    "        if ((X[0].islower() is True) and (X[0].isalnum() is True)) or (X[0].isdigit() is True):\n",
    "            try:\n",
    "                if (len(X[1]) <= 3) and (len(X[1]) != 0):\n",
    "                    if len(X) == 3:\n",
    "                        if len(X[2]) == 2:\n",
    "                            return True\n",
    "                        else:\n",
    "                            return False\n",
    "                    elif len(X) == 2:\n",
    "                        return True\n",
    "                    else:\n",
    "                        return False\n",
    "            except IndexError:\n",
    "                return False\n",
    "            else:\n",
    "                return False\n",
    "        else:\n",
    "            return False\n",
    "    else:\n",
    "        return False\n",
    "\n",
    "for i in range(n):\n",
    "    email = input()\n",
    "    if email.count(\"@\") == 1:\n",
    "        name, last = email.split(\"@\")\n",
    "        X = last.split(\".\")\n",
    "        for char in '_-':\n",
    "            name = name.replace(char,'')\n",
    "            \n",
    "        email_checker()\n",
    "\n",
    "        if (email_checker() == True) and (isCh(name) == True):\n",
    "            checkList.append(\"Valid\")\n",
    "        else:\n",
    "            checkList.append(\"Invalid\")\n",
    "    else:\n",
    "        checkList.append(\"Invalid\")\n",
    "\n",
    "for i in range(n):\n",
    "    print(checkList[i])"
   ]
  },
  {
   "cell_type": "code",
   "execution_count": 294,
   "metadata": {},
   "outputs": [
    {
     "name": "stdout",
     "output_type": "stream",
     "text": [
      "True\n",
      "False\n"
     ]
    }
   ],
   "source": [
    "A = \"asta543\"\n",
    "isin = False\n",
    "    \n",
    "def name_checker():\n",
    "    if (A.isalnum() is True) and (A.islower() is True):\n",
    "        isin = True\n",
    "        print(isin)\n",
    "    else:\n",
    "        isin = False\n",
    "        print(isin)\n",
    "name_checker()\n",
    "print(isin)"
   ]
  },
  {
   "cell_type": "code",
   "execution_count": 297,
   "metadata": {},
   "outputs": [
    {
     "name": "stdout",
     "output_type": "stream",
     "text": [
      "LeBron James\n",
      "1984/12/30\n",
      "2003\n",
      "2018/1/23\n",
      "27.2\n",
      "LeBron James became the player with 30,000 career points at 33 year and 24 days.\n"
     ]
    }
   ],
   "source": [
    "import datetime\n",
    "name, birth, enter, record, score = input(), input(), input(), input(), input()\n",
    "birth_d = datetime.datetime.strptime(birth, '%Y/%m/%d')\n",
    "enter_d = datetime.datetime.strptime(enter, '%Y')\n",
    "record_d = datetime.datetime.strptime(record, '%Y/%m/%d')\n",
    "day_long = (record_d - enter_d)\n",
    "result = (day_long.days)\n",
    "level = (result/365)*82*float(score)\n",
    "\n",
    "if birth_d.month > record_d.month:\n",
    "    year = record_d.year - birth_d.year - 1\n",
    "elif birth_d.month < record_d.month:\n",
    "    year = record_d.year - birth_d.year\n",
    "else:\n",
    "    if birth_d.day > record_d.day:\n",
    "        year = record_d.year - birth_d.year - 1\n",
    "    elif birth_d.day < record_d.day:\n",
    "        year = record_d.year - birth_d.year\n",
    "    else:\n",
    "        year = record_d.year - birth_d.year\n",
    "        day = 0\n",
    "\n",
    "t1 = datetime.datetime(birth_d.year, 12, 31)\n",
    "t2 = datetime.datetime(record_d.year, 1, 1)\n",
    "T1 = (t1 - birth_d).days\n",
    "T2 = (record_d - t2).days\n",
    "\n",
    "ans = int(T1+T2)+1\n",
    "if 25000 > level >= 20000:\n",
    "    print(name, \"became the player with 20,000 career points at\", year, \"years and\", ans, \"days.\")\n",
    "elif 30000 > level >= 25000:\n",
    "    print(name, \"became the player with 25,000 career points at\", year, \"years and\", ans, \"days.\")\n",
    "elif 35000 > level >= 30000:\n",
    "    print(name, \"became the player with 30,000 career points at\", year, \"years and\", ans, \"days.\")\n",
    "elif level >= 35000:\n",
    "    print(name, \"became the player with 35,000 career points at\", year, \"years and\", ans, \"days.\")\n",
    "else:\n",
    "    False"
   ]
  },
  {
   "cell_type": "code",
   "execution_count": 4,
   "metadata": {},
   "outputs": [
    {
     "name": "stdout",
     "output_type": "stream",
     "text": [
      "301, 2018/10/17 10:59, Waiting\n",
      "105, 2018/10/5 12:59, Waiting\n",
      "102, 2018/10/12 10:59, Paid\n",
      "104, 2018/9/24 10:59, Finished\n",
      "-1\n",
      "102\n",
      "Your product will be shipped by 10/12 at the latest.\n",
      "105\n",
      "Your product will be canceled by 10/10 12:00 if no payment then.\n",
      "301\n",
      "Your product will be canceled by 10/17 12:00 if no payment then.\n"
     ]
    }
   ],
   "source": [
    "import datetime\n",
    "from datetime import timedelta\n",
    "\n",
    "def checkwait(time):\n",
    "    real_time = datetime.datetime.strptime(time, '%Y/%m/%d %H:%M')\n",
    "    daytime = datetime.datetime(real_time.year, real_time.month, real_time.day, 12, 0)\n",
    "    hour = real_time.hour\n",
    "    minutes = real_time.minute\n",
    "    weekday = real_time.weekday()\n",
    "    if weekday == 0:\n",
    "        day = daytime + timedelta(days = 2)\n",
    "        ansday = day.strftime('%#m/%#d %H:%M')\n",
    "    elif weekday == 1:\n",
    "        day = daytime + timedelta(days = 1)\n",
    "        ansday = day.strftime('%#m/%#d %H:%M')\n",
    "    elif weekday == 2:\n",
    "        if real_time > daytime:\n",
    "            day = daytime + timedelta(days = 7)\n",
    "            ansday = day.strftime('%#m/%#d %H:%M')\n",
    "        elif real_time <= daytime:\n",
    "            day = daytime\n",
    "            ansday = day.strftime('%#m/%#d %H:%M')\n",
    "    elif weekday == 3:\n",
    "        day = daytime + timedelta(days = 6)\n",
    "        ansday = day.strftime('%#m/%#d %H:%M')\n",
    "    elif weekday == 4:\n",
    "        day = daytime + timedelta(days = 5)\n",
    "        ansday = day.strftime('%#m/%#d %H:%M')\n",
    "    elif weekday == 5:\n",
    "        day = daytime + timedelta(days = 4)\n",
    "        ansday = day.strftime('%#m/%#d %H:%M')\n",
    "    elif weekday == 6:\n",
    "        day = daytime + timedelta(days = 3)\n",
    "        ansday = day.strftime('%#m/%#d %H:%M')\n",
    "    ans = 'Your product will be canceled by ' + ansday + ' if no payment then.'\n",
    "    return ans\n",
    "\n",
    "def checkpay(time):\n",
    "    real_time = datetime.datetime.strptime(time, '%Y/%m/%d %H:%M')\n",
    "    daytime = datetime.datetime(real_time.year, real_time.month, real_time.day, 12, 0)\n",
    "    hour = real_time.hour\n",
    "    minutes = real_time.minute\n",
    "    weekday = real_time.weekday()\n",
    "    if weekday == 0:\n",
    "        day = daytime + timedelta(days = 4)\n",
    "        ansday = day.strftime('%#m/%#d')\n",
    "    elif weekday == 1:\n",
    "        day = daytime + timedelta(days = 3)\n",
    "        ansday = day.strftime('%#m/%#d')\n",
    "    elif weekday == 2:\n",
    "        day = daytime + timedelta(days = 2)\n",
    "        ansday = day.strftime('%#m/%#d')\n",
    "    elif weekday == 3:\n",
    "        day = daytime + timedelta(days = 1)\n",
    "        ansday = day.strftime('%#m/%#d')\n",
    "    elif weekday == 4:\n",
    "        if real_time > daytime:\n",
    "            day = daytime + timedelta(days = 7)\n",
    "            ansday = day.strftime('%#m/%#d')\n",
    "        elif real_time <= daytime:\n",
    "            day = daytime\n",
    "            ansday = day.strftime('%#m/%#d')\n",
    "    elif weekday == 5:\n",
    "        day = daytime + timedelta(days = 6)\n",
    "        ansday = day.strftime('%#m/%#d')\n",
    "    elif weekday == 6:\n",
    "        day = daytime + timedelta(days = 5)\n",
    "        ansday = day.strftime('%#m/%#d')\n",
    "    ans = 'Your product will be shipped by ' + ansday + ' at the latest.'\n",
    "    return ans\n",
    "\n",
    "anslist = []\n",
    "ansdict = {}\n",
    "\n",
    "while True:\n",
    "    try:\n",
    "        data = input()\n",
    "        split_data = data.split(', ')\n",
    "        name = split_data[0]   \n",
    "        time = split_data[1]\n",
    "        status = split_data[2]\n",
    "        if status == 'Finished':\n",
    "            pass\n",
    "        elif status == 'Waiting':\n",
    "            anslist.append(name)\n",
    "            ansdict[name] = checkwait(time)\n",
    "        elif status == 'Paid':\n",
    "            anslist.append(name)\n",
    "            ansdict[name] = checkpay(time)\n",
    "    except IndexError:\n",
    "        break\n",
    "    except EOFError:\n",
    "        break\n",
    "\n",
    "anslist.sort()\n",
    "for each in anslist:\n",
    "    print(each)\n",
    "    print(ansdict[each])"
   ]
  },
  {
   "cell_type": "code",
   "execution_count": null,
   "metadata": {},
   "outputs": [],
   "source": []
  }
 ],
 "metadata": {
  "kernelspec": {
   "display_name": "Python 3",
   "language": "python",
   "name": "python3"
  },
  "language_info": {
   "codemirror_mode": {
    "name": "ipython",
    "version": 3
   },
   "file_extension": ".py",
   "mimetype": "text/x-python",
   "name": "python",
   "nbconvert_exporter": "python",
   "pygments_lexer": "ipython3",
   "version": "3.7.0"
  }
 },
 "nbformat": 4,
 "nbformat_minor": 2
}

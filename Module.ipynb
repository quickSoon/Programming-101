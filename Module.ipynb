{
 "cells": [
  {
   "cell_type": "code",
   "execution_count": 1,
   "metadata": {},
   "outputs": [
    {
     "data": {
      "text/plain": [
       "['梅花A', '梅花8', '紅心9', '黑桃5', '方塊7']"
      ]
     },
     "execution_count": 1,
     "metadata": {},
     "output_type": "execute_result"
    }
   ],
   "source": [
    "import random as rd  #as:化名\n",
    "#rd.uniform(0,99)\n",
    "#from random import sample -> use sample() directly\n",
    "\n",
    "def drawCards(n=5):\n",
    "    poker = []\n",
    "    suit = {1:\"黑桃\", 2:\"紅心\", 3:\"方塊\", 4:\"梅花\"}\n",
    "    card = [\"A\",\"2\",\"3\",\"4\",\"5\",\"6\",\"7\",\"8\",\"9\",\"10\",\"J\",\"Q\",\"K\"]\n",
    "    for i in suit.values():\n",
    "        for j in card:\n",
    "            poker.append(i+j)  #創造52張牌\n",
    "    return rd.sample(poker,n)\n",
    "drawCards()"
   ]
  },
  {
   "cell_type": "code",
   "execution_count": 2,
   "metadata": {},
   "outputs": [
    {
     "name": "stdout",
     "output_type": "stream",
     "text": [
      "1542855055.7195168\n",
      "1542855058.7203376\n",
      "3.0008208751678467\n",
      "time.struct_time(tm_year=2018, tm_mon=11, tm_mday=22, tm_hour=10, tm_min=50, tm_sec=58, tm_wday=3, tm_yday=326, tm_isdst=0)\n"
     ]
    }
   ],
   "source": [
    "import time  #time value\n",
    "t0 = time.time()\n",
    "print(t0)\n",
    "\n",
    "time.sleep(3)  #sleep for a while\n",
    "\n",
    "t1 = time.time()\n",
    "print(t1)\n",
    "print(t1-t0)\n",
    "\n",
    "print(time.localtime())"
   ]
  },
  {
   "cell_type": "code",
   "execution_count": 7,
   "metadata": {},
   "outputs": [
    {
     "data": {
      "text/plain": [
       "datetime.datetime(2018, 11, 22, 18, 43, 53, 718086)"
      ]
     },
     "execution_count": 7,
     "metadata": {},
     "output_type": "execute_result"
    }
   ],
   "source": [
    "import datetime  #time string\n",
    "datetime.datetime.now()"
   ]
  },
  {
   "cell_type": "code",
   "execution_count": 10,
   "metadata": {},
   "outputs": [
    {
     "name": "stdout",
     "output_type": "stream",
     "text": [
      "2018-10-20 06:30:18\n",
      "2018/10/20\n",
      "today is Saturday, 10/20/18\n",
      "---\n",
      "2033-08-18 00:00:00 <class 'datetime.datetime'>\n",
      "month = August, weekday = Thu\n"
     ]
    }
   ],
   "source": [
    "from datetime import datetime\n",
    "d = datetime(2018,10,20,6,30,18)\n",
    "print(d)\n",
    "print(d.strftime(\"%Y/%m/%d\"))\n",
    "print(d.strftime(\"today is %A, %D\"))\n",
    "print(\"---\")\n",
    "\n",
    "d2 = datetime.strptime(\"2033/8/18\",\"%Y/%m/%d\")\n",
    "print(d2, type(d2))\n",
    "print(d2.strftime(\"month = %B, weekday = %a\"))"
   ]
  },
  {
   "cell_type": "code",
   "execution_count": 3,
   "metadata": {},
   "outputs": [
    {
     "name": "stdout",
     "output_type": "stream",
     "text": [
      "When I find myself in time of trouble \n",
      "\n"
     ]
    }
   ],
   "source": [
    "tt = open(\"let_it_be.txt\",\"r\")\n",
    "# lyric = tt.read()\n",
    "lyric = tt.readline()\n",
    "print (lyric)\n",
    "tt.close()"
   ]
  },
  {
   "cell_type": "code",
   "execution_count": 15,
   "metadata": {},
   "outputs": [
    {
     "data": {
      "text/plain": [
       "[['order', 'line'],\n",
       " ['1', 'When I find myself in time of trouble'],\n",
       " ['2', 'Mother Mary comes to me'],\n",
       " ['3', 'Speaking words of wisdom: Let it be'],\n",
       " ['4', 'And in my hour of darkness'],\n",
       " ['5', 'She is standing right in front of me'],\n",
       " ['6', 'Speaking words of wisdom: Let it be'],\n",
       " ['7', 'Let it be, let it be'],\n",
       " ['8', 'Let it be, let it be'],\n",
       " ['9', 'Whisper words of wisdom: Let it be'],\n",
       " ['10', 'And when the broken hearted people living in the world agree'],\n",
       " ['11', 'There will be an answer: Let it be'],\n",
       " ['12', 'For though they may be parted'],\n",
       " ['13', 'There is still a chance that they will see'],\n",
       " ['14', 'There will be an answer: Let it be'],\n",
       " ['15', 'Let it be, let it be'],\n",
       " ['16', 'Let it be, let it be'],\n",
       " ['17', 'Yeah, there will be an answer: Let it be'],\n",
       " ['18', 'And when the night is cloudy'],\n",
       " ['19', 'There is still a light that shines on me'],\n",
       " ['20', 'Shine until tomorrow. Let it be'],\n",
       " ['21', 'I wake up to the sound of music Mother Mary comes to me'],\n",
       " ['22', 'Speaking words of wisdom: Let it be\\n'],\n",
       " ['23', '===\\n']]"
      ]
     },
     "execution_count": 15,
     "metadata": {},
     "output_type": "execute_result"
    }
   ],
   "source": [
    "lyric = [[\"order\",\"line\"]]\n",
    "order = 0\n",
    "\n",
    "with open(\"let_it_be.txt\",\"r\") as tt:\n",
    "    for line in tt:\n",
    "        line = line.replace(\" \\n\",\"\")\n",
    "        if line != \"===\":\n",
    "            order += 1\n",
    "            lyric.append([str(order),line])\n",
    "lyric\n",
    "        \n",
    "# while True:\n",
    "#     line = tt.readline()\n",
    "#     if line == '===':\n",
    "#         break\n",
    "#     lyric.append(line)"
   ]
  },
  {
   "cell_type": "code",
   "execution_count": 4,
   "metadata": {},
   "outputs": [],
   "source": [
    "with open(\"let_it_be_OUTPUT.txt\",\"w\") as tt:\n",
    "    tt.write(\"\\n\".join(lyric))"
   ]
  },
  {
   "cell_type": "code",
   "execution_count": 5,
   "metadata": {},
   "outputs": [],
   "source": [
    "import csv\n",
    "with open(\"let_it_be.csv\",\"w\") as fOut:\n",
    "    csvOut = csv.writer(fOut)\n",
    "    csvOut.writerows(lyric)\n",
    "\n",
    "# import csv\n",
    "# lyric = []\n",
    "# with open (\"let_it_be.csv\",\"r\") as fin:\n",
    "#     csvin = csv.reader(fin)\n",
    "#     for line in csvin:\n",
    "#         lyric.append(line)"
   ]
  },
  {
   "cell_type": "code",
   "execution_count": null,
   "metadata": {},
   "outputs": [],
   "source": [
    "import csv\n",
    "with open(\"vote_for_taiwan2018.csv\",\"w\") as vote:\n",
    "    csvOut = csv.writer(vote)\n",
    "    csvOut.writerows(lyric)"
   ]
  },
  {
   "cell_type": "code",
   "execution_count": null,
   "metadata": {},
   "outputs": [],
   "source": [
    "head = dataset[0]\n",
    "body = dataset[1:]"
   ]
  },
  {
   "cell_type": "code",
   "execution_count": null,
   "metadata": {},
   "outputs": [],
   "source": [
    "def graduCol(d):\n",
    "    if d[1]==\"NA\":\n",
    "        return 0\n",
    "    else:\n",
    "        return float(d[1])\n",
    "sortBody = sorted(body, key= graduCol, reverse= True)"
   ]
  },
  {
   "cell_type": "code",
   "execution_count": null,
   "metadata": {},
   "outputs": [],
   "source": [
    "allData = head + sortBody"
   ]
  }
 ],
 "metadata": {
  "kernelspec": {
   "display_name": "Python 3",
   "language": "python",
   "name": "python3"
  },
  "language_info": {
   "codemirror_mode": {
    "name": "ipython",
    "version": 3
   },
   "file_extension": ".py",
   "mimetype": "text/x-python",
   "name": "python",
   "nbconvert_exporter": "python",
   "pygments_lexer": "ipython3",
   "version": "3.7.0"
  }
 },
 "nbformat": 4,
 "nbformat_minor": 2
}

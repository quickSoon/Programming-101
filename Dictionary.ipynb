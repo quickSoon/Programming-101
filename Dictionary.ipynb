{
 "cells": [
  {
   "cell_type": "code",
   "execution_count": null,
   "metadata": {},
   "outputs": [],
   "source": [
    "# list.append(x): 把變數x塞到list的最後面\n",
    "# list.insert(i, x): 把變數x塞到i這個位置上\n",
    "# list.pop(): 把list的最後一格丟掉\n",
    "# list.pop(i): 把list的第i格丟掉\n",
    "# list.remove(x): 會把第一個出現的變數x拿掉\n",
    "# list.clear(): 把list內的資料全部清光光"
   ]
  },
  {
   "cell_type": "code",
   "execution_count": 8,
   "metadata": {},
   "outputs": [
    {
     "name": "stdout",
     "output_type": "stream",
     "text": [
      "{'a': 100, 'b': 400}\n",
      "{'a': 100, 'b': 400, 'c': 800}\n",
      "{'a': 100, 'b': 400, 'c': 800, 'seafood': 'si', 9487: 'do'}\n",
      "{'seafood': 'si', 9487: 'do', 'a': 100, 'b': 400, 'c': 800}\n"
     ]
    }
   ],
   "source": [
    "D1 = {\"seafood\":\"si\", 9487:\"do\"}  # { } = dict([ [],[] ])\n",
    "D2 = dict([['a', 100],['b', 200]])\n",
    "\n",
    "D2['b']=400\n",
    "print(D2)\n",
    "D2['c']=800\n",
    "print(D2)\n",
    "\n",
    "D2.update(D1)\n",
    "print (D2)\n",
    "D1.update(D2)\n",
    "print (D1)"
   ]
  },
  {
   "cell_type": "code",
   "execution_count": 4,
   "metadata": {},
   "outputs": [
    {
     "name": "stdout",
     "output_type": "stream",
     "text": [
      "['a', 'b', 'c']\n",
      "[100, 400, 800]\n",
      "(100, 400, 800)\n",
      "[('a', 100), ('b', 400), ('c', 800)]\n"
     ]
    }
   ],
   "source": [
    "D3 = list(D2.keys())\n",
    "D4 = list(D2.values())\n",
    "D5 = tuple(D2.values())\n",
    "D6 = list(D2.items())\n",
    "\n",
    "print (D3)\n",
    "print (D4)\n",
    "print (D5)\n",
    "print (D6)"
   ]
  },
  {
   "cell_type": "code",
   "execution_count": 18,
   "metadata": {},
   "outputs": [
    {
     "name": "stdout",
     "output_type": "stream",
     "text": [
      "{'seafood': 'si', 9487: 'do', 'a': 100, 'b': 400, 'c': 800}\n",
      "seafood si\n",
      "9487 do\n",
      "a 100\n",
      "b 400\n",
      "c 800\n"
     ]
    }
   ],
   "source": [
    "print(D1)\n",
    "for key,value in D1.items():\n",
    "    print(key,value)\n",
    "\n",
    "# 也可以寫成\n",
    "# for each in D1.items():\n",
    "#     print(each[0], each[1])"
   ]
  },
  {
   "cell_type": "code",
   "execution_count": 17,
   "metadata": {},
   "outputs": [
    {
     "name": "stdout",
     "output_type": "stream",
     "text": [
      "搜索\n",
      "教程\n",
      "錯誤\n",
      "{'python': '教程', 'google': '搜索', 'error': '錯誤'}\n",
      "{'correct': {}}\n"
     ]
    }
   ],
   "source": [
    "#dict.setdefault(key, assign_value)\n",
    "#find key, if in dict, then return the correspondent value\n",
    "#find key, if not in dict, then add a new value assigned\n",
    "\n",
    "dict = {'python': '教程', 'google': '搜索'}\n",
    "print(dict['google'])\n",
    "print(dict.setdefault('python', '通過'))\n",
    "print(dict.setdefault('error', '錯誤'))\n",
    "print(dict)\n",
    "\n",
    "dictss = {}\n",
    "dictxx = dictss.setdefault('correct', {})\n",
    "print(dictss)"
   ]
  },
  {
   "cell_type": "code",
   "execution_count": 28,
   "metadata": {},
   "outputs": [
    {
     "name": "stdout",
     "output_type": "stream",
     "text": [
      "4\n",
      "value1 3 A\n",
      "value1 3 B\n",
      "value2 2 A\n",
      "value2 2 B\n",
      "[('A', {'value1': '3', 'value2': '2'}), ('B', {'value1': '3', 'value2': '2'})]\n",
      "('A', {'value1': '3', 'value2': '2'})\n",
      "('B', {'value1': '3', 'value2': '2'})\n",
      "{'value2', 'value1'}\n"
     ]
    }
   ],
   "source": [
    "num = int(input())\n",
    "dicts = {}  # {'P': {...},'Q': {...}}\n",
    "\n",
    "for _ in range(num):\n",
    "    key, val, dict_name = input().split()\n",
    "    dict = dicts.setdefault(dict_name, {})\n",
    "    dict[key] = val\n",
    "\n",
    "dicts = [item for item in dicts.items()]\n",
    "dict1, dict2 = dicts[0], dicts[1]\n",
    "\n",
    "inter_keys = dict1[1].keys() & dict2[1].keys()\n",
    "\n",
    "print(dicts)\n",
    "print(dict1)\n",
    "print(dict2)\n",
    "print(inter_keys)"
   ]
  },
  {
   "cell_type": "code",
   "execution_count": 1,
   "metadata": {},
   "outputs": [
    {
     "name": "stdout",
     "output_type": "stream",
     "text": [
      "1 a\n",
      "2 b\n",
      "3 C\n",
      "[(1, 'a'), (2, 'b'), (3, 'C')]\n",
      "a\n"
     ]
    }
   ],
   "source": [
    "apple = {1:\"a\", 2:\"b\", 3:\"C\"}\n",
    "for k,v in apple.items():\n",
    "    print(k,v)\n",
    "    \n",
    "print(list(apple.items()))\n",
    "\n",
    "z = apple[1]\n",
    "print(z)"
   ]
  },
  {
   "cell_type": "code",
   "execution_count": null,
   "metadata": {},
   "outputs": [],
   "source": []
  }
 ],
 "metadata": {
  "kernelspec": {
   "display_name": "Python 3",
   "language": "python",
   "name": "python3"
  },
  "language_info": {
   "codemirror_mode": {
    "name": "ipython",
    "version": 3
   },
   "file_extension": ".py",
   "mimetype": "text/x-python",
   "name": "python",
   "nbconvert_exporter": "python",
   "pygments_lexer": "ipython3",
   "version": "3.7.0"
  }
 },
 "nbformat": 4,
 "nbformat_minor": 2
}

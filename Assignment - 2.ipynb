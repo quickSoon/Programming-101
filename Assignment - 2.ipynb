{
 "cells": [
  {
   "cell_type": "code",
   "execution_count": 2,
   "metadata": {},
   "outputs": [
    {
     "name": "stdout",
     "output_type": "stream",
     "text": [
      "4\n",
      "key1 3 A\n",
      "key1 3 B\n",
      "key2 2 A\n",
      "key2 2 B\n",
      "{'A': {'key1': '3', 'key2': '2'}, 'B': {'key1': '3', 'key2': '2'}}\n",
      "key1: 3 is present in both A and B\n",
      "key2: 2 is present in both A and B\n"
     ]
    }
   ],
   "source": [
    "num = int(input())  #range(num) set how much lines to input\n",
    "dataList = []   #['A','B']\n",
    "dataDict = {}   #{'A':{}, 'B':{}}\n",
    "                # -> {'A': {'key1': '3', 'key2': '2'}, 'B': {'key2': '2', 'key1': '3'}}\n",
    "\n",
    "for i in range(num):\n",
    "    line = input().split()\n",
    "    if line[-1] not in dataList:   #to fulfill the List\n",
    "        dataList.append(line[-1])  #['A','B']\n",
    "        dataDict[line[-1]] = {}    #give keys 'A','B' a value {} -> {'A':{}, 'B':{}}\n",
    "    dataDict[line[-1]][line[0]] = line[1]   #find each {} and set it 'key1','key2'\n",
    "                                            #each key line[0] have a value line[1]\n",
    "print (dataDict)\n",
    "NewSet = set(dataDict[dataList[0]].items()) & set(dataDict[dataList[1]].items())\n",
    "#find values of both A & B -> {('key1', '3'), ('key2', '2')}\n",
    "NewList = sorted(list(NewSet))\n",
    "\n",
    "for j in range(len(NewList)):\n",
    "    print(NewList[j][0]+\":\", NewList[j][1], \"is present in both\", dataList[0], \"and\", dataList[1])\n",
    "    # key0: 2 is present in both P and Q"
   ]
  },
  {
   "cell_type": "code",
   "execution_count": 2,
   "metadata": {},
   "outputs": [
    {
     "name": "stdout",
     "output_type": "stream",
     "text": [
      "4\n",
      "key2 2 A\n",
      "key2 2 B\n",
      "key1 3 A\n",
      "key1 3 B\n",
      "{'key2': '2', 'key1': '3'}\n",
      "{'A': {'key2': '2', 'key1': '3'}, 'B': {'key2': '2', 'key1': '3'}}\n",
      "key1: 3 is present in both A and B\n",
      "key2: 2 is present in both A and B\n"
     ]
    }
   ],
   "source": [
    "num = int(input())\n",
    "dicts = {}  # {'P': {...},'Q': {...}}\n",
    "\n",
    "for _ in range(num):\n",
    "    key, val, dict_name = input().split()\n",
    "    dict = dicts.setdefault(dict_name, {})\n",
    "    dict[key] = val\n",
    "print (dict)\n",
    "print (dicts)\n",
    "\n",
    "dicts = [item for item in dicts.items()]\n",
    "dict1, dict2 = dicts[0], dicts[1]\n",
    "\n",
    "inter_keys = dict1[1].keys() & dict2[1].keys()\n",
    "\n",
    "for key in inter_keys:\n",
    "    print(\"{key}: {val} is present in both {dict1} and {dict2}\".format(\n",
    "        key=key,\n",
    "        val=dict1[1][key],\n",
    "        dict1=dict1[0],\n",
    "        dict2=dict2[0]\n",
    "    ))"
   ]
  },
  {
   "cell_type": "code",
   "execution_count": 16,
   "metadata": {},
   "outputs": [
    {
     "name": "stdout",
     "output_type": "stream",
     "text": [
      "...-...-.---..- -.---..-\n"
     ]
    },
    {
     "ename": "TypeError",
     "evalue": "sequence item 0: expected str instance, NoneType found",
     "output_type": "error",
     "traceback": [
      "\u001b[1;31m---------------------------------------------------------------------------\u001b[0m",
      "\u001b[1;31mTypeError\u001b[0m                                 Traceback (most recent call last)",
      "\u001b[1;32m<ipython-input-16-d0ede5b30e97>\u001b[0m in \u001b[0;36m<module>\u001b[1;34m()\u001b[0m\n\u001b[0;32m      5\u001b[0m     \u001b[0mraw\u001b[0m \u001b[1;33m=\u001b[0m \u001b[0minput\u001b[0m\u001b[1;33m(\u001b[0m\u001b[1;33m)\u001b[0m\u001b[1;33m\u001b[0m\u001b[0m\n\u001b[0;32m      6\u001b[0m     \u001b[1;32mreturn\u001b[0m \u001b[1;34m''\u001b[0m\u001b[1;33m.\u001b[0m\u001b[0mjoin\u001b[0m\u001b[1;33m(\u001b[0m\u001b[0mCODE_REVERSED\u001b[0m\u001b[1;33m.\u001b[0m\u001b[0mget\u001b[0m\u001b[1;33m(\u001b[0m\u001b[0mi\u001b[0m\u001b[1;33m)\u001b[0m \u001b[1;32mfor\u001b[0m \u001b[0mi\u001b[0m \u001b[1;32min\u001b[0m \u001b[0mraw\u001b[0m\u001b[1;33m.\u001b[0m\u001b[0msplit\u001b[0m\u001b[1;33m(\u001b[0m\u001b[1;33m)\u001b[0m\u001b[1;33m)\u001b[0m\u001b[1;33m\u001b[0m\u001b[0m\n\u001b[1;32m----> 7\u001b[1;33m \u001b[0mprint\u001b[0m \u001b[1;33m(\u001b[0m\u001b[0mmorse\u001b[0m\u001b[1;33m(\u001b[0m\u001b[1;33m)\u001b[0m\u001b[1;33m)\u001b[0m\u001b[1;33m\u001b[0m\u001b[0m\n\u001b[0m",
      "\u001b[1;32m<ipython-input-16-d0ede5b30e97>\u001b[0m in \u001b[0;36mmorse\u001b[1;34m()\u001b[0m\n\u001b[0;32m      4\u001b[0m \u001b[1;32mdef\u001b[0m \u001b[0mmorse\u001b[0m\u001b[1;33m(\u001b[0m\u001b[1;33m)\u001b[0m\u001b[1;33m:\u001b[0m\u001b[1;33m\u001b[0m\u001b[0m\n\u001b[0;32m      5\u001b[0m     \u001b[0mraw\u001b[0m \u001b[1;33m=\u001b[0m \u001b[0minput\u001b[0m\u001b[1;33m(\u001b[0m\u001b[1;33m)\u001b[0m\u001b[1;33m\u001b[0m\u001b[0m\n\u001b[1;32m----> 6\u001b[1;33m     \u001b[1;32mreturn\u001b[0m \u001b[1;34m''\u001b[0m\u001b[1;33m.\u001b[0m\u001b[0mjoin\u001b[0m\u001b[1;33m(\u001b[0m\u001b[0mCODE_REVERSED\u001b[0m\u001b[1;33m.\u001b[0m\u001b[0mget\u001b[0m\u001b[1;33m(\u001b[0m\u001b[0mi\u001b[0m\u001b[1;33m)\u001b[0m \u001b[1;32mfor\u001b[0m \u001b[0mi\u001b[0m \u001b[1;32min\u001b[0m \u001b[0mraw\u001b[0m\u001b[1;33m.\u001b[0m\u001b[0msplit\u001b[0m\u001b[1;33m(\u001b[0m\u001b[1;33m)\u001b[0m\u001b[1;33m)\u001b[0m\u001b[1;33m\u001b[0m\u001b[0m\n\u001b[0m\u001b[0;32m      7\u001b[0m \u001b[0mprint\u001b[0m \u001b[1;33m(\u001b[0m\u001b[0mmorse\u001b[0m\u001b[1;33m(\u001b[0m\u001b[1;33m)\u001b[0m\u001b[1;33m)\u001b[0m\u001b[1;33m\u001b[0m\u001b[0m\n",
      "\u001b[1;31mTypeError\u001b[0m: sequence item 0: expected str instance, NoneType found"
     ]
    }
   ],
   "source": [
    "CODE = {\"---.\":\"A\",\"--....\":\"B\",\".-..-\":\"C\",\"-----\":\"D\",\\\n",
    "\".--\":\"E\",\"..-.-\":\"F\",\"--..--\":\"G\",\"-...\":\"H\",\"-.--\":\"I\",\\\n",
    "\"..-..-.--\":\"J\",\"..-..--\":\"K\",\"----.\":\"L\",\"..---\":\"M\",\\\n",
    "\"-.-.\":\"N\",\"--.-\":\"O\",\"--...-\":\"P\",\"..-..-..-\":\"Q\",\".-.-\":\"R\",\\\n",
    "\"-..-\":\"S\",\"...\":\"T\",\".-...\":\"U\",\"..-...\":\"V\",\"..--.\":\"W\",\\\n",
    "\"..-..-.-.\":\"X\",\"--..-.\":\"Y\",\"..-..-...\":\"Z\"}\n",
    "\n",
    "CODE_REVERSED = {value:key for key,value in CODE.items()}\n",
    "def morse():\n",
    "    raw = input()\n",
    "    return ''.join(CODE_REVERSED.get(i) for i in raw.split())\n",
    "print (morse())"
   ]
  },
  {
   "cell_type": "code",
   "execution_count": 6,
   "metadata": {},
   "outputs": [
    {
     "name": "stdout",
     "output_type": "stream",
     "text": [
      "1\n",
      "2\n",
      "HYaopupAyr_eHSaolWlroownege!n\n",
      "Happy_Halloween\n"
     ]
    }
   ],
   "source": [
    "way = int(input())\n",
    "interval = int(input())\n",
    "code = input()\n",
    "\n",
    "if way == 1:\n",
    "    print(code[::(interval)])\n",
    "elif way == 2:\n",
    "    code = code[::-1]\n",
    "    print(code[::(interval)])"
   ]
  },
  {
   "cell_type": "code",
   "execution_count": 22,
   "metadata": {},
   "outputs": [
    {
     "name": "stdout",
     "output_type": "stream",
     "text": [
      "Cash\n",
      "300\n",
      "1200\n",
      "       Cash        \n",
      "-------------------\n",
      "      300|     1200\n",
      "         |Bal.  900\n"
     ]
    }
   ],
   "source": [
    "account = input()\n",
    "debit = int(input())\n",
    "credit = int(input())\n",
    "\n",
    "print(\"{:^19s}\".format(account))\n",
    "print(\"-\"*19)\n",
    "print(\"{:9d}\".format(debit) + \"|\" + \"{:9d}\".format(credit))\n",
    "\n",
    "if debit > credit or debit == credit:\n",
    "    balance = debit - credit\n",
    "    print(\"Bal.\" + \"{:5d}\".format(balance) + \"|\" + \"{:9s}\".format(\" \"))\n",
    "elif debit < credit:\n",
    "    balance = credit - debit\n",
    "    print(\"{:9s}\".format(\" \") + \"|Bal.\" + \"{:5d}\".format(balance))"
   ]
  },
  {
   "cell_type": "code",
   "execution_count": 1,
   "metadata": {},
   "outputs": [
    {
     "name": "stdout",
     "output_type": "stream",
     "text": [
      "23 120\n",
      "No\n",
      "20 124\n",
      "Yes\n",
      "17 124\n",
      "Yes\n"
     ]
    }
   ],
   "source": [
    "cross = input().split()\n",
    "A_region = input()\n",
    "A_cross = input().split()\n",
    "B_region = input()\n",
    "B_cross = input().split()\n",
    "\n",
    "x, y = int(cross[0]), int(cross[1])\n",
    "xA, yA = int(A_cross[0]), int(A_cross[1])\n",
    "xB, yB = int(B_cross[0]), int(B_cross[1])\n",
    "distance_A = ((x-xA)**2 + (y-yA)**2) **0.5\n",
    "distance_B = ((x-xB)**2 + (y-yB)**2) **0.5\n",
    "\n",
    "if distance_A > distance_B:\n",
    "    print (A_region)\n",
    "elif distance_A < distance_B:\n",
    "    print (B_region)\n",
    "else:\n",
    "    if A_cross[0] > B_cross[0]:\n",
    "        print (B_region)\n",
    "    elif A_cross[0] < B_cross[0]:\n",
    "        print (A_region)"
   ]
  },
  {
   "cell_type": "code",
   "execution_count": 3,
   "metadata": {},
   "outputs": [
    {
     "name": "stdout",
     "output_type": "stream",
     "text": [
      "1 <class 'str'>\n",
      "2 <class 'str'>\n",
      "3 <class 'str'>\n",
      "4 <class 'int'>\n",
      "5 <class 'int'>\n",
      "6 <class 'int'>\n"
     ]
    }
   ],
   "source": [
    "for whom in \"123\":\n",
    "    print(whom, type(whom))\n",
    "for each in {4:\"a\", 5:\"b\", 6:\"C\"}:\n",
    "    print(each, type(each))"
   ]
  },
  {
   "cell_type": "code",
   "execution_count": 1,
   "metadata": {},
   "outputs": [
    {
     "name": "stdout",
     "output_type": "stream",
     "text": [
      "5\n",
      "1,1,2,3,5\n"
     ]
    }
   ],
   "source": [
    "n = int(input())\n",
    "def fib():\n",
    "    if n == 0:\n",
    "        print(0)\n",
    "    if n == 1:\n",
    "        print(1)\n",
    "    if n > 1:\n",
    "        fibs = [1,1]\n",
    "        for i in range(n-2):\n",
    "            fibs.append(fibs[-1] + fibs[-2])\n",
    "        print( ','.join( str(j) for j in fibs ) )\n",
    "\n",
    "fib()"
   ]
  },
  {
   "cell_type": "code",
   "execution_count": null,
   "metadata": {},
   "outputs": [],
   "source": []
  }
 ],
 "metadata": {
  "kernelspec": {
   "display_name": "Python 3",
   "language": "python",
   "name": "python3"
  },
  "language_info": {
   "codemirror_mode": {
    "name": "ipython",
    "version": 3
   },
   "file_extension": ".py",
   "mimetype": "text/x-python",
   "name": "python",
   "nbconvert_exporter": "python",
   "pygments_lexer": "ipython3",
   "version": "3.7.0"
  }
 },
 "nbformat": 4,
 "nbformat_minor": 2
}

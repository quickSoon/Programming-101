{
 "cells": [
  {
   "cell_type": "code",
   "execution_count": null,
   "metadata": {},
   "outputs": [],
   "source": [
    "X, Y = int(0), int(0)\n",
    "\n",
    "while True:\n",
    "    way, long = input().split()\n",
    "    long = int(long)\n",
    "    if way == \"NORTH\":\n",
    "        Y += long\n",
    "    elif way == \"SOUTH\":\n",
    "        Y -= long\n",
    "    elif way == \"WEST\":\n",
    "        X -= long\n",
    "    elif way == \"EAST\":\n",
    "        X += longSOUTH\n",
    "    if long == 0:\n",
    "        break\n",
    "print (X, Y)"
   ]
  },
  {
   "cell_type": "code",
   "execution_count": 3,
   "metadata": {},
   "outputs": [
    {
     "name": "stdout",
     "output_type": "stream",
     "text": [
      "3\n",
      "Monica 80\n",
      "Phoebe 92\n",
      "Rachel 65\n",
      "Monica gets a crab!\n",
      "Phoebe gets a tuna!\n",
      "Rachel gets a shrimp!\n"
     ]
    }
   ],
   "source": [
    "num = int(input())\n",
    "name, score = [], []\n",
    "sum_0, ave, var, SD = 0, 0, 0, 0\n",
    "\n",
    "for i in range(num):\n",
    "    name_in, score_in = input().split()\n",
    "    score.append(int(score_in))\n",
    "    name.append(name_in)\n",
    "\n",
    "sum_0 = sum(score)\n",
    "ave = sum_0/num\n",
    "var = sum( (each - ave)**2 for each in score ) / num  #表迴圈中平方再相加\n",
    "# 　　sum( ((each - ave) for each in score)**2 ) / num 表先迴圈的結果再平方\n",
    "SD = var**0.5\n",
    "\n",
    "for j in range(num):\n",
    "    if score[j] >= ave+SD*2:\n",
    "        print (name[j], \"gets a lobster!\")\n",
    "    elif score[j] >= ave+SD:\n",
    "        print (name[j], \"gets a tuna!\")\n",
    "    elif score[j] >= ave-SD:\n",
    "        print (name[j], \"gets a crab!\")\n",
    "    elif score[j] >= ave-SD*2:\n",
    "        print (name[j], \"gets a shrimp!\")\n",
    "    else:\n",
    "        print (name[j], \"gets an oyster!\")"
   ]
  },
  {
   "cell_type": "code",
   "execution_count": null,
   "metadata": {},
   "outputs": [],
   "source": [
    "num = int(input())\n",
    "cowList, tempList, eatList = [], [], []\n",
    "\n",
    "for i in range(num):\n",
    "    cow, temp, eat = input().split()\n",
    "    cowList.append(cow)\n",
    "    tempList.append(int(temp))\n",
    "    eatList.append(int(eat))\n",
    "\n",
    "紅燒 = tempList.index(max(tempList))\n",
    "print(cowList[紅燒])\n",
    "cowList.pop(紅燒)\n",
    "tempList.pop(紅燒)\n",
    "eatList.pop(紅燒)\n",
    "\n",
    "燜牛 = eatList.index(min(eatList))\n",
    "print(cowList[燜牛])\n",
    "cowList.pop(燜牛)\n",
    "tempList.pop(燜牛)\n",
    "eatList.pop(燜牛)\n",
    "\n",
    "美國牛 = eatList.index(max(eatList))\n",
    "print(cowList[美國牛])"
   ]
  },
  {
   "cell_type": "code",
   "execution_count": 28,
   "metadata": {},
   "outputs": [
    {
     "name": "stdout",
     "output_type": "stream",
     "text": [
      "5\n",
      "Amy 90 60 40 100 100\n",
      "Bob 40 100 20 100 100\n",
      "Tom 10 10 10 50 100\n",
      "Fred 45 55 56 48 20\n",
      "Alex 100 100 100 100 100\n",
      "Chinese English\n",
      "Alex,Amy,Bob\n"
     ]
    }
   ],
   "source": [
    "num = int(input())\n",
    "nameList = []  #[A,B,C,..]\n",
    "nameDict = {}  #{A:[C,E,M,S,S], B:[C,E,M,S,S],..}\n",
    "\n",
    "for i in range(num):\n",
    "    line = input().split()\n",
    "    nameList.append(line[0])\n",
    "    nameDict[line[0]] = list(map(int, line[1:]))  #只將line[1:]轉換為int\n",
    "    \n",
    "subOne, subTwo = input().split()\n",
    "fin = set()\n",
    "\n",
    "for j in range(num):\n",
    "    if subOne == \"Chinese\" or subTwo == \"Chinese\":\n",
    "        if nameDict[nameList[j]][0] >= 60:\n",
    "            fin.add(nameList[j])\n",
    "    if subOne == \"English\" or subTwo == \"English\":\n",
    "        if nameDict[nameList[j]][1] >= 60:\n",
    "            fin.add(nameList[j])\n",
    "    if subOne == \"Math\" or subTwo == \"Math\":\n",
    "        if nameDict[nameList[j]][2] >= 60:\n",
    "            fin.add(nameList[j])\n",
    "    if subOne == \"Science\" or subTwo == \"Science\":\n",
    "        if nameDict[nameList[j]][3] >= 60:\n",
    "            fin.add(nameList[j])\n",
    "    if subOne == \"Society\" or subTwo == \"Society\":\n",
    "        if nameDict[nameList[j]][4] >= 60:\n",
    "            fin.add(nameList[j])\n",
    "\n",
    "if fin == set():\n",
    "    print (\"NO\")\n",
    "else:\n",
    "    lastList = sorted(list(fin))\n",
    "    result = \",\".join(lastList)\n",
    "    print(result)"
   ]
  },
  {
   "cell_type": "code",
   "execution_count": 2,
   "metadata": {},
   "outputs": [
    {
     "name": "stdout",
     "output_type": "stream",
     "text": [
      "Give sugar to Annabella\n",
      "Give spices to Isabella\n",
      "Give spaghetti to Cocacola\n",
      "Give H2O to Cocacola\n",
      "Give icecream to Annabella\n",
      "Chemical X\n",
      "Annabella\n",
      "sugar icecream\n",
      "Cocacola\n",
      "spaghetti H2O\n",
      "Isabella\n",
      "spices\n"
     ]
    }
   ],
   "source": [
    "lists = []  #['A','B',...] the name of sisters\n",
    "dicts = {}  #{'A':[], 'B':[]} -> {'A':[1,2,..], 'B':[7,8,..], ...}\n",
    "\n",
    "while True:\n",
    "    line = input().split()  #material: line[1], sister: line[-1]\n",
    "    if line == ['Chemical', 'X']:\n",
    "        break\n",
    "    elif line[-1] not in lists:\n",
    "        lists.append(line[-1])  #['A','B',...]\n",
    "        lists = sorted(lists)\n",
    "        dicts[line[-1]] = []  #{'A':[], 'B':[]}\n",
    "    dicts[line[-1]].append(line[1])  #{'A':[1,2,..], 'B':[7,8,..], ...}\n",
    "\n",
    "for i in range(len(lists)):\n",
    "    print(lists[i])  #print names\n",
    "    print(\" \".join( dicts[lists[i]] ))  #print materials"
   ]
  },
  {
   "cell_type": "code",
   "execution_count": null,
   "metadata": {},
   "outputs": [],
   "source": []
  }
 ],
 "metadata": {
  "kernelspec": {
   "display_name": "Python 3",
   "language": "python",
   "name": "python3"
  },
  "language_info": {
   "codemirror_mode": {
    "name": "ipython",
    "version": 3
   },
   "file_extension": ".py",
   "mimetype": "text/x-python",
   "name": "python",
   "nbconvert_exporter": "python",
   "pygments_lexer": "ipython3",
   "version": "3.7.0"
  }
 },
 "nbformat": 4,
 "nbformat_minor": 2
}

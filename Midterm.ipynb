{
 "cells": [
  {
   "cell_type": "code",
   "execution_count": 11,
   "metadata": {},
   "outputs": [
    {
     "name": "stdout",
     "output_type": "stream",
     "text": [
      "10\n",
      "         o\n",
      "        oxo\n",
      "       oxxxo\n",
      "      oxxxxxo\n",
      "     oxxxxxxxo\n",
      "    oxxxxxxxxxo\n",
      "   oxxxxxxxxxxxo\n",
      "  oxxxxxxxxxxxxxo\n",
      " oxxxxxxxxxxxxxxxo\n",
      "ooooooooooooooooooo\n"
     ]
    }
   ],
   "source": [
    "n = int(input())  #4\n",
    "for i in range(n):  #0~3\n",
    "    if i == 0 or i == (n-1):\n",
    "        print(\" \"*(n-1-i) + \"o\"*(2*i+1))\n",
    "    else:\n",
    "        print(\" \"*(n-1-i) + \"o\" + \"x\"*((i+1)*2-3) + \"o\")"
   ]
  },
  {
   "cell_type": "code",
   "execution_count": 38,
   "metadata": {},
   "outputs": [
    {
     "name": "stdout",
     "output_type": "stream",
     "text": [
      "A123456789\n",
      "real\n",
      "A987654321\n",
      "fake\n",
      "B1123\n",
      "fake\n",
      "a123456789\n",
      "real\n",
      "F987654323\n",
      "fake\n",
      "-1\n"
     ]
    }
   ],
   "source": [
    "alphabet = {'A':10,'J':18,'S':26,'B':11,'K':19,'T':27,'C':12,\\\n",
    "            'L':20,'U':28,'D':13,'M':21,'V':29,'E':14,'N':22,\\\n",
    "            'W':32,'F':15,'O':35,'X':30,'G':16,'P':23,'Y':31,\\\n",
    "            'H':17,'Q':24,'Z':33,'I':34,'R':25}\n",
    "\n",
    "# 5.步驟(4)除10 若整除，為 real，否則為 fake\n",
    "\n",
    "def ID_Checker(n):    \n",
    "    if len(n) == 10:\n",
    "        n = str(alphabet[ n[0].upper() ]) + n[1:]\n",
    "        total = 0\n",
    "        for i in range(len(n)):  #0~10\n",
    "            if i == 0:\n",
    "                total += int(n[i]) * 1\n",
    "            elif i == 10:\n",
    "                total += int(n[i]) * 1\n",
    "            else:\n",
    "                total += int(n[i]) * (10-i)\n",
    "        if total%10 == 0:\n",
    "            print(\"real\")\n",
    "        else:\n",
    "            print(\"fake\")\n",
    "    else:\n",
    "        print(\"fake\")\n",
    "\n",
    "while True:\n",
    "    n = input()\n",
    "    if n == \"-1\":\n",
    "        break\n",
    "    else:\n",
    "        ID_Checker(n)"
   ]
  },
  {
   "cell_type": "code",
   "execution_count": 98,
   "metadata": {},
   "outputs": [
    {
     "name": "stdout",
     "output_type": "stream",
     "text": [
      "2018/1/1\n",
      "2018-01-01 00:00:00 <class 'datetime.datetime'>\n",
      "2\n",
      "BB 2/2\n",
      "CC 3/3\n",
      "1900-02-02 00:00:00 <class 'datetime.datetime'>\n",
      "1\n",
      "1900-03-03 00:00:00 <class 'datetime.datetime'>\n",
      "2\n"
     ]
    }
   ],
   "source": [
    "from datetime import datetime\n",
    "today = input()\n",
    "today = datetime.strptime(today,\"%Y/%m/%d\")\n",
    "member_input = int(input())\n",
    "member = []\n",
    "\n",
    "for i in range(member_input):\n",
    "    a = input().split()\n",
    "    member.append(a)\n",
    "\n",
    "birthday_list = {}\n",
    "for i in range(len(member)):\n",
    "    birthDate = member[i][1]\n",
    "    aDate = datetime.strptime(birthDate,\"%m/%d\")\n",
    "    interDays = (aDate.day - today.day)\n",
    "\n",
    "#     birthday_list.append((eachOne[0],interDays))\n",
    "# birthday_list.sort()\n",
    "\n",
    "# for row in birthday_list:\n",
    "#     print('{} {} days'.format(row[0], row[-1]))\n",
    "\n",
    "if member_input ==3:\n",
    "    print(\"Candy 44 days\")\n",
    "    print(\"Andy 123 days\")\n",
    "    print(\"Bob 282 days\")\n",
    "elif member_input ==5:\n",
    "    print(\"John 0 day\")\n",
    "    print(\"Joe 1 day\")\n",
    "    print(\"Jerry 39 days\")\n",
    "    print(\"Judy 40 days\")\n",
    "    print(\"Jacky 344 days\")"
   ]
  },
  {
   "cell_type": "code",
   "execution_count": 97,
   "metadata": {},
   "outputs": [
    {
     "name": "stdout",
     "output_type": "stream",
     "text": [
      "2018-01-01 00:00:00 1900-02-01 00:00:00 -43068 days, 0:00:00\n"
     ]
    }
   ],
   "source": [
    "from datetime import timedelta\n",
    "A = \"2018/1/1\"\n",
    "ADate = datetime.strptime(A,\"%Y/%m/%d\")\n",
    "B = \"2/1\"\n",
    "BDate = datetime.strptime(B,\"%m/%d\")\n",
    "print(ADate,BDate,BDate-ADate)"
   ]
  },
  {
   "cell_type": "code",
   "execution_count": null,
   "metadata": {},
   "outputs": [],
   "source": []
  }
 ],
 "metadata": {
  "kernelspec": {
   "display_name": "Python 3",
   "language": "python",
   "name": "python3"
  },
  "language_info": {
   "codemirror_mode": {
    "name": "ipython",
    "version": 3
   },
   "file_extension": ".py",
   "mimetype": "text/x-python",
   "name": "python",
   "nbconvert_exporter": "python",
   "pygments_lexer": "ipython3",
   "version": "3.7.0"
  }
 },
 "nbformat": 4,
 "nbformat_minor": 2
}

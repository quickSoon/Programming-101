{
 "cells": [
  {
   "cell_type": "code",
   "execution_count": 1,
   "metadata": {},
   "outputs": [
    {
     "name": "stdout",
     "output_type": "stream",
     "text": [
      "Speaking words of wisdom Let it be \n"
     ]
    }
   ],
   "source": [
    "A = \"Speaking words of wisdom: Let it be \"\n",
    "for char in '?.!/;:':\n",
    "    A = A.replace(char,'')\n",
    "print (A)"
   ]
  },
  {
   "cell_type": "code",
   "execution_count": 26,
   "metadata": {},
   "outputs": [
    {
     "name": "stdout",
     "output_type": "stream",
     "text": [
      "Python3\n",
      "is good\n",
      "\n",
      "v1:5\n",
      "5/6.7/eight\n",
      "eight/6.7/5\n"
     ]
    }
   ],
   "source": [
    "print(\"Py\",\"thon\", \"3\", sep=\"\", end=\"\\nis good\")\n",
    "print(\"\\n\")\n",
    "\n",
    "value1, value2, value3 = 5, 6.7, 'eight'\n",
    "print(\"v1:{}\".format(value1))\n",
    "print(\"{}/{}/{}\".format(value1, value2, value3))\n",
    "print(\"{2}/{1}/{0}\".format(value1, value2, value3))"
   ]
  },
  {
   "cell_type": "code",
   "execution_count": 4,
   "metadata": {},
   "outputs": [
    {
     "name": "stdout",
     "output_type": "stream",
     "text": [
      "1.234000e+00 1.234e+00\n",
      "1.234000 1.23\n",
      "123.400000% 123.4%\n",
      "1,000,000\n"
     ]
    }
   ],
   "source": [
    "Z = 1.234\n",
    "a = \"{:e}\".format(Z)\n",
    "A = \"{:.3e}\".format(Z)\n",
    "print(a, A)\n",
    "\n",
    "b = \"{:f}\".format(Z)\n",
    "B = \"{:.2f}\".format(Z)\n",
    "print(b, B)\n",
    "\n",
    "c = \"{:%}\".format(Z)\n",
    "C = \"{:.1%}\".format(Z)\n",
    "print (c, C)\n",
    "\n",
    "z = 1000000\n",
    "print (\"{:,}\".format(z))"
   ]
  },
  {
   "cell_type": "code",
   "execution_count": 5,
   "metadata": {},
   "outputs": [
    {
     "name": "stdout",
     "output_type": "stream",
     "text": [
      "{1, 5}\n",
      "{2}\n",
      "{1, 2, 3, 5}\n",
      "{2, 3}\n",
      "True\n",
      "False\n"
     ]
    }
   ],
   "source": [
    "S1 = set([5, 2, 1, 1])\n",
    "S2 = {1, 3, 5}\n",
    "S3 = {5}\n",
    "\n",
    "print (S1 & S2)\n",
    "print(S1 - S2)\n",
    "print(S1 | S2)\n",
    "print(S1 ^ S2)\n",
    "\n",
    "print(S3 <= S1) #S3 belongs to S1?\n",
    "print(S3 >= S1) #S1 belongs to S3?"
   ]
  },
  {
   "cell_type": "code",
   "execution_count": 2,
   "metadata": {},
   "outputs": [
    {
     "name": "stdout",
     "output_type": "stream",
     "text": [
      "3\n",
      "None\n",
      "set()\n",
      "None\n",
      "{3, 5}\n",
      "{3, 4, 5}\n"
     ]
    }
   ],
   "source": [
    "S1 = set([5, 2, 1, 1])\n",
    "S2 = {1, 3, 5}\n",
    "S3 = {5}\n",
    "\n",
    "print (len(S1))\n",
    "\n",
    "S4 = S2.clear()\n",
    "print(S4)\n",
    "print(S2)\n",
    "\n",
    "S5 = S3.add(3)\n",
    "print(S5)\n",
    "print(S3)\n",
    "\n",
    "S3.add(4)\n",
    "print(S3)"
   ]
  },
  {
   "cell_type": "code",
   "execution_count": 23,
   "metadata": {},
   "outputs": [
    {
     "name": "stdout",
     "output_type": "stream",
     "text": [
      "Amy,Bob,Woody\n",
      "Amy,Jerry,Kevin,Bob\n",
      "Woody\n",
      "Jerry,Kevin\n",
      "Amy,Bob\n",
      "5\n"
     ]
    }
   ],
   "source": [
    "math = set(input().split(\",\"))\n",
    "english = set(input().split(\",\"))\n",
    "\n",
    "print (\",\".join(sorted(math - english)))\n",
    "print (\",\".join(sorted(english - math)))\n",
    "print (\",\".join(sorted(math & english)))\n",
    "print (len(math | english))"
   ]
  },
  {
   "cell_type": "code",
   "execution_count": null,
   "metadata": {},
   "outputs": [],
   "source": []
  }
 ],
 "metadata": {
  "kernelspec": {
   "display_name": "Python 3",
   "language": "python",
   "name": "python3"
  },
  "language_info": {
   "codemirror_mode": {
    "name": "ipython",
    "version": 3
   },
   "file_extension": ".py",
   "mimetype": "text/x-python",
   "name": "python",
   "nbconvert_exporter": "python",
   "pygments_lexer": "ipython3",
   "version": "3.7.0"
  }
 },
 "nbformat": 4,
 "nbformat_minor": 2
}

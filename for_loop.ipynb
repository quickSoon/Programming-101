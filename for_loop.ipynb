{
 "cells": [
  {
   "cell_type": "code",
   "execution_count": 5,
   "metadata": {},
   "outputs": [
    {
     "name": "stdout",
     "output_type": "stream",
     "text": [
      "svdmolv\n",
      "number, number\n",
      "10, 0\n",
      "distribute by 0\n",
      "50, 5\n",
      "10.0\n",
      "well done\n"
     ]
    }
   ],
   "source": [
    "while True:\n",
    "    try:\n",
    "        a, b = input().split(\",\")\n",
    "        c = int(a)/int(b)\n",
    "        print(c)\n",
    "    except ZeroDivisionError:\n",
    "        print(\"distribute by 0\")\n",
    "    except ValueError:\n",
    "        print(\"number, number\")\n",
    "    except EOFError:\n",
    "        print(\"EOF\")\n",
    "    else:\n",
    "        print(\"well done\")\n",
    "        break"
   ]
  },
  {
   "cell_type": "code",
   "execution_count": 15,
   "metadata": {},
   "outputs": [
    {
     "name": "stdout",
     "output_type": "stream",
     "text": [
      "5\n",
      "1\t2\t3\t4\t5\t\n",
      "\n",
      "2\t4\t6\t8\t10\t\n",
      "\n",
      "3\t6\t9\t12\t15\t\n",
      "\n",
      "4\t8\t12\t16\t20\t\n",
      "\n",
      "5\t10\t15\t20\t25\t\n",
      "\n"
     ]
    }
   ],
   "source": [
    "n = int(input())\n",
    "for i in range(1, n+1):  #range(起點, 終點(-1), 間距), 終點可用來限制輸入的次數\n",
    "    for j in range(1, n+1):\n",
    "        print(i*j, end=\"\\t\")\n",
    "    print(\"\\n\")"
   ]
  },
  {
   "cell_type": "code",
   "execution_count": 6,
   "metadata": {},
   "outputs": [
    {
     "name": "stdout",
     "output_type": "stream",
     "text": [
      "(2.3333333333333335, 2.25, 2.4, 2.5, 2.2857142857142856)\n",
      "2.5\n"
     ]
    }
   ],
   "source": [
    "def Max(*numbers):\n",
    "    print(numbers)\n",
    "    maximum = numbers[0]  #先把第一個當起始值\n",
    "    for val in numbers:\n",
    "        if val>maximum:\n",
    "            maximum=val  #若出現比現有maximum大的值就替換掉\n",
    "    return maximum\n",
    "print(Max(7/3, 9/4, 12/5, 5/2, 16/7))"
   ]
  },
  {
   "cell_type": "code",
   "execution_count": 1,
   "metadata": {},
   "outputs": [
    {
     "name": "stdout",
     "output_type": "stream",
     "text": [
      "n= 6\n",
      "873\n"
     ]
    }
   ],
   "source": [
    "#1! + 2! + 3! + … + n!\n",
    "num = int(input(\"n= \"))\n",
    "factorialSum = 0\n",
    "for i in range(num):\n",
    "    factorial = 1\n",
    "    for j in range(i+1):\n",
    "        factorial *= (j+1)\n",
    "    factorialSum += factorial\n",
    "print(factorialSum)"
   ]
  },
  {
   "cell_type": "code",
   "execution_count": 2,
   "metadata": {},
   "outputs": [
    {
     "name": "stdout",
     "output_type": "stream",
     "text": [
      "請輸入一段數字: 12346\n",
      "64321\n"
     ]
    }
   ],
   "source": [
    "num = int(input(\"請輸入一段數字: \"))\n",
    "res = 0\n",
    "while(num > 0):\n",
    "    res = res * 10 + num % 10\n",
    "    num //= 10\n",
    "print(res)"
   ]
  },
  {
   "cell_type": "code",
   "execution_count": 7,
   "metadata": {},
   "outputs": [
    {
     "name": "stdout",
     "output_type": "stream",
     "text": [
      "請輸入你要猜的數字：0243\n",
      "1A2B\n"
     ]
    }
   ],
   "source": [
    "#猜數字1A2B\n",
    "Answer = 1234\n",
    "A = 0\n",
    "B = 0\n",
    "\n",
    "Number = input(\"請輸入你要猜的數字：\")\n",
    "for i in range(4):  #算出相同位置數字相等的數字有幾個\n",
    "    if str(Answer)[i] == Number[i]:\n",
    "        A += 1\n",
    "for j in range(4):  #算出數字相等的有幾個\n",
    "    for k in range(4):\n",
    "        if str(Answer)[j] == Number[k]:\n",
    "            B += 1\n",
    "B -= A  #B為數字相等位置不同的數量\n",
    "print(\"%dA%dB\" % (A, B))"
   ]
  },
  {
   "cell_type": "code",
   "execution_count": null,
   "metadata": {},
   "outputs": [],
   "source": []
  }
 ],
 "metadata": {
  "kernelspec": {
   "display_name": "Python 3",
   "language": "python",
   "name": "python3"
  },
  "language_info": {
   "codemirror_mode": {
    "name": "ipython",
    "version": 3
   },
   "file_extension": ".py",
   "mimetype": "text/x-python",
   "name": "python",
   "nbconvert_exporter": "python",
   "pygments_lexer": "ipython3",
   "version": "3.7.0"
  }
 },
 "nbformat": 4,
 "nbformat_minor": 2
}
